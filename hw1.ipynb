{
  "nbformat": 4,
  "nbformat_minor": 0,
  "metadata": {
    "orig_nbformat": 4,
    "language_info": {
      "name": "python",
      "version": "3.9.2",
      "mimetype": "text/x-python",
      "codemirror_mode": {
        "name": "ipython",
        "version": 3
      },
      "pygments_lexer": "ipython3",
      "nbconvert_exporter": "python",
      "file_extension": ".py"
    },
    "kernelspec": {
      "name": "python3",
      "display_name": "Python 3.9.2 64-bit"
    },
    "interpreter": {
      "hash": "aee8b7b246df8f9039afb4144a1f6fd8d2ca17a180786b69acc140d282b71a49"
    },
    "colab": {
      "name": "upload.ipynb",
      "provenance": [],
      "include_colab_link": true
    }
  },
  "cells": [
    {
      "cell_type": "markdown",
      "metadata": {
        "id": "view-in-github",
        "colab_type": "text"
      },
      "source": [
        "<a href=\"https://colab.research.google.com/github/elio-li/CSCI-4964/blob/main/hw1.ipynb\" target=\"_parent\"><img src=\"https://colab.research.google.com/assets/colab-badge.svg\" alt=\"Open In Colab\"/></a>"
      ]
    },
    {
      "cell_type": "markdown",
      "metadata": {
        "id": "WUrQDB7_XgZq"
      },
      "source": [
        "# Homework 1"
      ]
    },
    {
      "cell_type": "markdown",
      "metadata": {
        "id": "pu0-iadLXgZs"
      },
      "source": [
        "## Part a) Build a bipartite network\n",
        "\n",
        "To construct a adjacency matrix, we use the following strategy:\n",
        "\n",
        "```\n",
        "      1428         456\n",
        "|--------------|---------|\n",
        "|              |         |\n",
        "|              |         |\n",
        "|      0       |    M    |  1428\n",
        "|              |         |\n",
        "|              |         |\n",
        "|--------------|---------|\n",
        "|              |         |\n",
        "|     M^T      |    0    |  456\n",
        "|              |         |\n",
        "|--------------|---------|\n",
        "```\n",
        "\n",
        "where `M` is a 1428 * 456 Matrix(which is the dataset given)"
      ]
    },
    {
      "cell_type": "code",
      "metadata": {
        "id": "_o6K4Y6JXgZu"
      },
      "source": [
        "import numpy as np\n",
        "\n",
        "file = open(\"networkdata1.csv\") # changed the file to csv\n",
        "upper_right = np.loadtxt(file, delimiter=\",\")\n",
        "lower_left = upper_right.T"
      ],
      "execution_count": null,
      "outputs": []
    },
    {
      "cell_type": "code",
      "metadata": {
        "id": "AnHR9V1sXgZv"
      },
      "source": [
        "upper_left = np.zeros((1428,1428))\n",
        "lower_right = np.zeros((456,456))\n",
        "left = np.concatenate((upper_left, lower_left), axis=0)\n",
        "right = np.concatenate((upper_right, lower_right), axis=0)\n",
        "matrix = np.concatenate((left, right), axis=1)"
      ],
      "execution_count": null,
      "outputs": []
    },
    {
      "cell_type": "markdown",
      "metadata": {
        "id": "pzebWbTCXgZw"
      },
      "source": [
        "## Part b) Build the projection networks of plants and animals\n",
        "\n",
        "Algorithm as follows(using animal projection network for example):\n",
        "\n",
        "```\n",
        "for each `x` in 1428 animals:\n",
        "  for each `y` in 456 plants:\n",
        "    if the interaction is 1:\n",
        "      transpose matrix, rows will become plants'\n",
        "      look for all the 1's from the corresponding plant array\n",
        "        for each 1 is found, two animals connect to the same plant\n",
        "set all the diagonal of the result to 0 at the end\n",
        "```"
      ]
    },
    {
      "cell_type": "code",
      "metadata": {
        "id": "JBW08c4nXgZw"
      },
      "source": [
        "# data -> input matrix (1428 * 456 for this homework)\n",
        "# size -> either m or n from m*n, this is to determine\n",
        "#          finding which projection network\n",
        "def find_projection(data, size):\n",
        "  proj = np.zeros((size, size))\n",
        "  for x in range(len(data)):\n",
        "    for y in range(len(data[0])):\n",
        "      if data[x,y] == 1:\n",
        "        for z in range(len(data)):\n",
        "          if data.T[y][z] == 1:\n",
        "            proj[x][z] = 1\n",
        "  for i in range(size):\n",
        "    proj[i][i] = 0\n",
        "  return proj"
      ],
      "execution_count": null,
      "outputs": []
    },
    {
      "cell_type": "code",
      "metadata": {
        "id": "7wszBTsbXgZx"
      },
      "source": [
        "animal_proj = find_projection(upper_right, 1428)\n",
        "plants_proj = find_projection(upper_right.T, 456)"
      ],
      "execution_count": null,
      "outputs": []
    },
    {
      "cell_type": "markdown",
      "metadata": {
        "id": "xOQafn2mXgZx"
      },
      "source": [
        "## Part c) Calculate the degree of each nodes in the projection networks\n",
        "\n",
        "This part we can just sum up each rows of both projection matrices"
      ]
    },
    {
      "cell_type": "code",
      "metadata": {
        "id": "vGUTjPlsXgZy"
      },
      "source": [
        "animal_degr = np.zeros(1428)\n",
        "plants_degr = np.zeros(456)\n",
        "\n",
        "for i in range(len(animal_proj)):\n",
        "  animal_degr[i] = np.sum(animal_proj[i])\n",
        "for i in range(len(plants_proj)):\n",
        "  plants_degr[i] = np.sum(plants_proj[i])\n",
        "\n",
        "animal_degr"
      ],
      "execution_count": null,
      "outputs": []
    },
    {
      "cell_type": "markdown",
      "metadata": {
        "id": "3_qdLbDWXgZy"
      },
      "source": [
        "## Part d) Plot the degree distributions of each projection network"
      ]
    },
    {
      "cell_type": "code",
      "metadata": {
        "id": "xVB3FSHMXgZz"
      },
      "source": [
        "animal_degr_count = np.zeros(1428)\n",
        "plants_degr_count = np.zeros(456)\n",
        "\n",
        "for i in range(len(animal_degr)):\n",
        "  animal_degr_count[int(animal_degr[i])] += 1\n",
        "for i in range(len(plants_degr)):\n",
        "  plants_degr_count[int(plants_degr[i])] += 1"
      ],
      "execution_count": null,
      "outputs": []
    },
    {
      "cell_type": "code",
      "metadata": {
        "id": "1FtrWb0JXgZz"
      },
      "source": [
        "import matplotlib.pyplot as plt\n",
        "plt.plot(animal_degr_count/1428)"
      ],
      "execution_count": null,
      "outputs": []
    },
    {
      "cell_type": "code",
      "metadata": {
        "id": "Qdmz-exdXgZ0"
      },
      "source": [
        "plt.plot(plants_degr_count/456)"
      ],
      "execution_count": null,
      "outputs": []
    },
    {
      "cell_type": "markdown",
      "metadata": {
        "id": "_JzC4SCdXgZ0"
      },
      "source": [
        "## Part e) Find three pair of nodes with distance 6 (shortest path)."
      ]
    },
    {
      "cell_type": "code",
      "metadata": {
        "id": "39WhCAzNXgZ1"
      },
      "source": [
        "def BFS(matrix, root, iteration = -1):\n",
        "  visited = [0 for i in range(len(matrix))]\n",
        "  path = []\n",
        "  queue = []\n",
        "  clock = 0\n",
        "\n",
        "  def find_neighbors(i):\n",
        "    for j in range(len(matrix)):\n",
        "      if matrix[i][j] == 1 and visited[j] == 0:\n",
        "        return j\n",
        "    return -1\n",
        "\n",
        "  # start:\n",
        "  visited[root] = 1\n",
        "  queue.append(root)\n",
        "  # bfs until queue is empty or 6 is reached\n",
        "  while (iteration == -1 and len(queue) != 0) or (iteration != -1 and clock != iteration and len(queue) != 0):\n",
        "    cur_vertex = queue.pop()\n",
        "    path.append(cur_vertex)\n",
        "    nei_vertex = find_neighbors(cur_vertex)\n",
        "    while nei_vertex != -1:\n",
        "      visited[nei_vertex] = 1\n",
        "      queue.append(nei_vertex)\n",
        "      nei_vertex = find_neighbors(cur_vertex)\n",
        "    clock += 1\n",
        "  return path"
      ],
      "execution_count": null,
      "outputs": []
    },
    {
      "cell_type": "code",
      "metadata": {
        "id": "7t1UGkV3XgZ1"
      },
      "source": [
        "path1 = BFS(plants_proj, 0, 6)\n",
        "path2 = BFS(plants_proj, 50, 6)\n",
        "path3 = BFS(plants_proj, 100, 6)\n",
        "\n",
        "print(path1,path2,path3)"
      ],
      "execution_count": null,
      "outputs": []
    },
    {
      "cell_type": "code",
      "metadata": {
        "id": "4tm17RLsXgZ2"
      },
      "source": [
        "path1 = BFS(animal_proj, 0, 6)\n",
        "path2 = BFS(animal_proj, 300, 6)\n",
        "path3 = BFS(animal_proj, 800, 6)\n",
        "\n",
        "print(path1,path2,path3)"
      ],
      "execution_count": null,
      "outputs": []
    },
    {
      "cell_type": "markdown",
      "metadata": {
        "id": "Pp_UxBQXXgZ3"
      },
      "source": [
        "The above are 6 lists that contains 6 nodes each, the first node in each list is the starting point, the last node is the endpoint."
      ]
    },
    {
      "cell_type": "markdown",
      "metadata": {
        "id": "GWFTFFUKXgZ3"
      },
      "source": [
        "## Part f) Calculate the diameter of each projection network."
      ]
    },
    {
      "cell_type": "code",
      "metadata": {
        "id": "h_LPEp0HXgZ4"
      },
      "source": [
        ""
      ],
      "execution_count": null,
      "outputs": []
    },
    {
      "cell_type": "markdown",
      "metadata": {
        "id": "MPFTynNjXgZ4"
      },
      "source": [
        "## Part g) Find the largest connected component of each projection network"
      ]
    },
    {
      "cell_type": "code",
      "metadata": {
        "id": "r-XDwhlcXgZ4"
      },
      "source": [
        "def connected_component(matrix):\n",
        "  labels = [0 for i in range(len(matrix))]\n",
        "  label = 1\n",
        "  # find a node that haven't walked\n",
        "  while 0 in labels:\n",
        "    i = next((i for i, x in enumerate(labels) if x == 0), None)\n",
        "    if i == None:\n",
        "      break\n",
        "    nodes = BFS(matrix, i)\n",
        "    for j in nodes:\n",
        "      labels[j] = label\n",
        "    label += 1\n",
        "  return labels"
      ],
      "execution_count": null,
      "outputs": []
    },
    {
      "cell_type": "code",
      "metadata": {
        "id": "n7zsw1TjXgZ5"
      },
      "source": [
        "def find_largest_connected(List):\n",
        "  counter = 0\n",
        "  num = List[0]\n",
        "     \n",
        "  for i in List:\n",
        "    curr_frequency = List.count(i)\n",
        "    if curr_frequency > counter:\n",
        "      counter = curr_frequency\n",
        "      num = i\n",
        " \n",
        "  return num"
      ],
      "execution_count": null,
      "outputs": []
    },
    {
      "cell_type": "code",
      "metadata": {
        "id": "CDApLQ6EXgZ5"
      },
      "source": [
        "plants_connected_list = connected_component(plants_proj)"
      ],
      "execution_count": null,
      "outputs": []
    },
    {
      "cell_type": "code",
      "metadata": {
        "id": "Kngf9fK5XgZ6"
      },
      "source": [
        "plants_connected_max = find_largest_connected(plants_connected_list)\n",
        "plants_max_indices = [i for i, x in enumerate(plants_connected_list) if x == plants_connected_max]"
      ],
      "execution_count": null,
      "outputs": []
    },
    {
      "cell_type": "code",
      "metadata": {
        "id": "gnhuBpzaXgZ6"
      },
      "source": [
        "animal_connected_list = connected_component(animal_proj)"
      ],
      "execution_count": null,
      "outputs": []
    },
    {
      "cell_type": "code",
      "metadata": {
        "id": "eZpWBCV0XgZ7"
      },
      "source": [
        "animal_connected_max = find_largest_connected(animal_connected_list)\n",
        "animal_max_indices = [i for i, x in enumerate(animal_connected_list) if x == animal_connected_max]"
      ],
      "execution_count": null,
      "outputs": []
    },
    {
      "cell_type": "markdown",
      "metadata": {
        "id": "yLtasg0mXgZ7"
      },
      "source": [
        "## Part h) Remove nodes 1 to 300 from the the pollinator projection network, recalculate its largest connected component."
      ]
    },
    {
      "cell_type": "code",
      "metadata": {
        "id": "lkn4A87yXgZ8"
      },
      "source": [
        "new_grid_h = upper_right[300:]\n",
        "animal_proj_h = find_projection(new_grid_h, 1128)\n",
        "animal_connected_list_h = connected_component(animal_proj_h)\n",
        "animal_connected_max_h = find_largest_connected(animal_connected_list_h)\n",
        "animal_max_indices_h = [i for i, x in enumerate(animal_connected_list_h) if x == animal_connected_max_h]"
      ],
      "execution_count": null,
      "outputs": []
    },
    {
      "cell_type": "markdown",
      "metadata": {
        "id": "PxXw_zYfXgZ8"
      },
      "source": [
        "## Part i) Remove nodes 1 to 100 from the the flower projection network, recalculate its largest connected component."
      ]
    },
    {
      "cell_type": "code",
      "metadata": {
        "id": "2u5hYah7XgZ8"
      },
      "source": [
        "new_grid_i = upper_right.T[100:]\n",
        "plants_proj_i = find_projection(new_grid_i, 356)\n",
        "plants_connected_list_i = connected_component(plants_proj_i)\n",
        "plants_connected_max_i = find_largest_connected(plants_connected_list_i)\n",
        "plants_max_indices_i = [i for i, x in enumerate(plants_connected_list_i) if x == plants_connected_max_i]"
      ],
      "execution_count": null,
      "outputs": []
    },
    {
      "cell_type": "markdown",
      "metadata": {
        "id": "RFV9tO5AXgZ9"
      },
      "source": [
        "## MISC."
      ]
    },
    {
      "cell_type": "code",
      "metadata": {
        "id": "nBmCj0gYXgZ9"
      },
      "source": [
        "a = np.array(animal_max_indices_h)\n",
        "mat = np.matrix(a)\n",
        "with open('i)plants_connected_component.txt','wb') as f:\n",
        "    for line in mat:\n",
        "        np.savetxt(f, line, fmt='%d')"
      ],
      "execution_count": null,
      "outputs": []
    }
  ]
}