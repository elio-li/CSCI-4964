{
 "cells": [
  {
   "cell_type": "markdown",
   "metadata": {},
   "source": [
    "# **Final Project: Girvan-Newman Algorithm**"
   ]
  },
  {
   "cell_type": "markdown",
   "metadata": {},
   "source": [
    "## **Implementation - Networkx Library**"
   ]
  },
  {
   "cell_type": "code",
   "execution_count": 1,
   "metadata": {},
   "outputs": [],
   "source": [
    "import matplotlib.pyplot as plt\n",
    "import networkx as nx\n",
    "import random\n",
    "import math"
   ]
  },
  {
   "cell_type": "code",
   "execution_count": 2,
   "metadata": {},
   "outputs": [],
   "source": [
    "\"\"\"\n",
    "Remove Edges Until the Connected Component Break into 2 Component\n",
    "\"\"\"\n",
    "def removeEdges(G):\n",
    "  connected_comp_init = nx.number_connected_components(G)\n",
    "  connected_comp = connected_comp_init\n",
    "  while connected_comp <= connected_comp_init:\n",
    "    betweenness = nx.edge_betweenness_centrality(G)\n",
    "    max_betweenness = max(betweenness.values())\n",
    "    for k, v in betweenness.items():\n",
    "      if float(v) == max_betweenness:\n",
    "        G.remove_edge(k[0],k[1])\n",
    "    connected_comp = nx.number_connected_components(G)"
   ]
  },
  {
   "cell_type": "code",
   "execution_count": 3,
   "metadata": {},
   "outputs": [],
   "source": [
    "\"\"\"\n",
    "Calculate Modularity\n",
    "\"\"\"\n",
    "def getModularity(G, degrees):\n",
    "  A_update = nx.adjacency_matrix(G)\n",
    "  degrees_update = {node:val for (node, val) in G.degree()}\n",
    "  connected_comp = nx.connected_components(G)\n",
    "\n",
    "  modularity = 0.0\n",
    "  for component in connected_comp:\n",
    "    edges, random_edges = 0.0, 0.0\n",
    "    for i in component:\n",
    "      edges += degrees_update[i]\n",
    "      random_edges += degrees[i]\n",
    "    modularity += (edges - (random_edges**2)/(2*m))\n",
    "  modularity /= float(2*m)\n",
    "  return modularity"
   ]
  },
  {
   "cell_type": "code",
   "execution_count": 4,
   "metadata": {},
   "outputs": [],
   "source": [
    "def GirvanNewman(G, degrees):\n",
    "  modularity, max_modularity = 0.0, 0.0\n",
    "  component = []\n",
    "  while True:\n",
    "    removeEdges(G)\n",
    "    modularity = getModularity(G, degrees)\n",
    "    if modularity > max_modularity:\n",
    "      max_modularity = modularity\n",
    "      component = list(nx.connected_components(G))\n",
    "    if G.number_of_edges() == 0:\n",
    "      break\n",
    "  if max_modularity > 0.0:\n",
    "    print(\"Max modularity found (Q): {} and number of communities: {}\".format(max_modularity, len(component)))\n",
    "    print(\"Graph communities: {}\".format(component))\n",
    "  else:\n",
    "    print(\"Max modularity (Q):\", max_modularity)\n",
    "  \n",
    "  return component"
   ]
  },
  {
   "cell_type": "code",
   "execution_count": 5,
   "metadata": {},
   "outputs": [],
   "source": [
    "G = nx.read_gml(\"lesmiserables.gml\")\n",
    "\n",
    "n = G.number_of_nodes()\n",
    "A = nx.adjacency_matrix(G)\n",
    "m = G.number_of_edges()\n",
    "degrees = {node:val for (node, val) in G.degree()}"
   ]
  },
  {
   "cell_type": "code",
   "execution_count": 6,
   "metadata": {},
   "outputs": [
    {
     "name": "stdout",
     "output_type": "stream",
     "text": [
      "Max modularity found (Q): 0.5380680761361523 and number of communities: 11\n",
      "Graph communities: [{'MmeMagloire', 'OldMan', 'Myriel', 'Count', 'CountessDeLo', 'Champtercier', 'Geborand', 'MlleBaptistine', 'Napoleon', 'Cravatte'}, {'Bamatabois', 'Cochepaille', 'Woman1', 'Simplice', 'Gervais', 'Scaufflaire', 'Chenildieu', 'Labarre', 'Judge', 'Champmathieu', 'Isabeau', 'Valjean', 'Brevet', 'MmeDeR'}, {'Listolier', 'Favourite', 'Zephine', 'Fameuil', 'Tholomyes', 'Perpetue', 'Blacheville', 'Fantine', 'Dahlia', 'Marguerite'}, {'Babet', 'Anzelma', 'Javert', 'Thenardier', 'Eponine', 'Claquesous', 'Montparnasse', 'Gueulemer', 'Pontmercy', 'Brujon', 'MmeThenardier'}, {'MlleGillenormand', 'Gillenormand', 'MmePontmercy', 'LtGillenormand', 'Woman2', 'Cosette', 'Magnon', 'BaronessT', 'MlleVaubois', 'Toussaint'}, {'Gribier', 'MotherInnocent', 'Fauchelevent'}, {'Boulatruelle'}, {'Jondrette', 'MmeBurgon'}, {'Mabeuf', 'Bahorel', 'Combeferre', 'Marius', 'Bossuet', 'MmeHucheloup', 'Prouvaire', 'Joly', 'Enjolras', 'Courfeyrac', 'Feuilly', 'Gavroche', 'Grantaire'}, {'MotherPlutarch'}, {'Child2', 'Child1'}]\n"
     ]
    }
   ],
   "source": [
    "component = GirvanNewman(G, degrees)"
   ]
  },
  {
   "cell_type": "markdown",
   "metadata": {},
   "source": [
    "# **Visualizations are performed in Gephi*"
   ]
  }
 ],
 "metadata": {
  "interpreter": {
   "hash": "aee8b7b246df8f9039afb4144a1f6fd8d2ca17a180786b69acc140d282b71a49"
  },
  "kernelspec": {
   "display_name": "Python 3.9.7 64-bit",
   "name": "python3"
  },
  "language_info": {
   "codemirror_mode": {
    "name": "ipython",
    "version": 3
   },
   "file_extension": ".py",
   "mimetype": "text/x-python",
   "name": "python",
   "nbconvert_exporter": "python",
   "pygments_lexer": "ipython3",
   "version": "3.9.7"
  },
  "orig_nbformat": 4
 },
 "nbformat": 4,
 "nbformat_minor": 2
}
